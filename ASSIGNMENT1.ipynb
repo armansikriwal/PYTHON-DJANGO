{
 "cells": [
  {
   "cell_type": "code",
   "execution_count": 7,
   "id": "a41bee54",
   "metadata": {},
   "outputs": [
    {
     "name": "stdout",
     "output_type": "stream",
     "text": [
      "23\n",
      "['Hey', 'i', 'am', 'from', 'New', 'Delhi']\n"
     ]
    }
   ],
   "source": [
    "s = \"Hey i am from New Delhi\"\n",
    "print(len(s))\n",
    "lis=s.split()\n",
    "print(lis)\n"
   ]
  },
  {
   "cell_type": "code",
   "execution_count": 17,
   "id": "879a27e2",
   "metadata": {},
   "outputs": [
    {
     "name": "stdout",
     "output_type": "stream",
     "text": [
      "Name is rahul\n",
      "Rame Is Rahul\n",
      "NAME IS RAHUL\n"
     ]
    }
   ],
   "source": [
    "s = \"name is rahul\"\n",
    "print(s.capitalize())\n",
    "print(s.replace(\"n\",\"r\").title())\n",
    "print(s.upper())"
   ]
  },
  {
   "cell_type": "code",
   "execution_count": 20,
   "id": "edc079da",
   "metadata": {},
   "outputs": [
    {
     "name": "stdout",
     "output_type": "stream",
     "text": [
      "input length4\n",
      "input bredth5\n",
      "perimeter is :  9.0\n",
      "area is  20.0\n"
     ]
    }
   ],
   "source": [
    "#Q3. Using length and breadth as input find out area and perimeter of a given rectangle.\n",
    "\n",
    "def find_per_area(a,b):\n",
    "    print(\"perimeter is : \", a+b )\n",
    "    print(\"area is \",a*b)\n",
    "\n",
    "\n",
    "length=float(input(\"input length\"))\n",
    "bredth=float(input(\"input bredth\"))\n",
    "find_per_area(length,bredth)\n"
   ]
  },
  {
   "cell_type": "code",
   "execution_count": 28,
   "id": "b3712b54",
   "metadata": {},
   "outputs": [
    {
     "name": "stdout",
     "output_type": "stream",
     "text": [
      "enter diameter10\n",
      "circumference is 31.41592653589793\n",
      "area is 78.53981633974483\n"
     ]
    }
   ],
   "source": [
    "#Q4. Using diameter as input find out circumference and area of a circle.\n",
    "\n",
    "import math\n",
    "def find_cir_area(d):\n",
    "    r=d/2\n",
    "    print(\"circumference is\", 2*math.pi*r)\n",
    "    print(\"area is\",math.pi*r*r)\n",
    "diam=float(input(\"enter diameter\"))\n",
    "find_cir_area(diam)"
   ]
  },
  {
   "cell_type": "code",
   "execution_count": 4,
   "id": "cb592bfb",
   "metadata": {},
   "outputs": [
    {
     "name": "stdout",
     "output_type": "stream",
     "text": [
      "a2\n",
      "b4\n",
      "c5\n",
      "the roots are :  (-1-1.224744871391589j) (-1+1.224744871391589j)\n"
     ]
    }
   ],
   "source": [
    "#Q5.Write a program to compute roots of a quadratic equation when coefficients a, b and c are known(entered by user).\n",
    "import cmath\n",
    "a=float(input(\"a\"))\n",
    "b=float(input(\"b\"))\n",
    "c=float(input(\"c\"))\n",
    "\n",
    "d = (b**2) - (4*a*c)\n",
    "x1 = (-b-cmath.sqrt(d))/(2*a)\n",
    "x2 = (-b+cmath.sqrt(d))/(2*a)\n",
    "print(\"the roots are : \",x1,x2)"
   ]
  },
  {
   "cell_type": "code",
   "execution_count": 5,
   "id": "aee868f3",
   "metadata": {},
   "outputs": [
    {
     "name": "stdout",
     "output_type": "stream",
     "text": [
      "enter radius5\n",
      "523.5987755982989\n"
     ]
    }
   ],
   "source": [
    "#Q6 .volume of sphere\n",
    "import math\n",
    "r=float(input(\"enter radius\"))\n",
    "vol=(4/3)*math.pi*r**3\n",
    "print(vol)"
   ]
  },
  {
   "cell_type": "code",
   "execution_count": 7,
   "id": "59d9d7a7",
   "metadata": {},
   "outputs": [
    {
     "name": "stdout",
     "output_type": "stream",
     "text": [
      "enter number224558844\n",
      "9\n"
     ]
    }
   ],
   "source": [
    "#Q7 .Count the  number of digits in a number\n",
    "num=input(\"enter number\")\n",
    "count=0\n",
    "for i in num:\n",
    "    count +=1\n",
    "print(count)"
   ]
  },
  {
   "cell_type": "code",
   "execution_count": 10,
   "id": "fc9a1a13",
   "metadata": {},
   "outputs": [
    {
     "name": "stdout",
     "output_type": "stream",
     "text": [
      "enter stringarman\n",
      "ARMAN\n"
     ]
    }
   ],
   "source": [
    "#Q8 .Write a program that accepts a string and gives output string with all capital letters.\n",
    "string=input(\"enter string\")\n",
    "print(string.upper())"
   ]
  },
  {
   "cell_type": "code",
   "execution_count": 2,
   "id": "3f67fbfc",
   "metadata": {},
   "outputs": [
    {
     "name": "stdout",
     "output_type": "stream",
     "text": [
      "stringhello\n",
      "index number0\n",
      "char to replace withj\n",
      "jello\n"
     ]
    }
   ],
   "source": [
    "#q9\n",
    "'''Write a program to that accepts a string s, an index number n \n",
    "and a character ‘c’. And outputs the string replaced with the character \n",
    "at the index number n '''\n",
    "s=input(\"string\")\n",
    "n=int(input(\"index number\"))\n",
    "c=input(\"char to replace with\")\n",
    "lis=[]\n",
    "for i in s:\n",
    "    lis.append(i)\n",
    "lis[n]=c\n",
    "print(\"\".join(lis))"
   ]
  },
  {
   "cell_type": "code",
   "execution_count": 1,
   "id": "76ee8f2a",
   "metadata": {},
   "outputs": [
    {
     "name": "stdout",
     "output_type": "stream",
     "text": [
      "stringhey there\n",
      "ereht yeh\n"
     ]
    }
   ],
   "source": [
    "#Q10. Reverse a string\n",
    "s=input(\"string\")\n",
    "print(s[::-1])"
   ]
  },
  {
   "cell_type": "code",
   "execution_count": null,
   "id": "2f059997",
   "metadata": {},
   "outputs": [],
   "source": []
  }
 ],
 "metadata": {
  "kernelspec": {
   "display_name": "Python 3",
   "language": "python",
   "name": "python3"
  },
  "language_info": {
   "codemirror_mode": {
    "name": "ipython",
    "version": 3
   },
   "file_extension": ".py",
   "mimetype": "text/x-python",
   "name": "python",
   "nbconvert_exporter": "python",
   "pygments_lexer": "ipython3",
   "version": "3.9.5"
  }
 },
 "nbformat": 4,
 "nbformat_minor": 5
}
